{
 "cells": [
  {
   "cell_type": "markdown",
   "metadata": {
    "id": "orXxANrepJ-A"
   },
   "source": [
    "## Mutable vs. immutable Python objects\n",
    "Immutable objects can't be changes **in place**, once they are generated.\n",
    "- immutable python objects are `int`, `str`, `bool`, `tuple`,..\n",
    "- mutable python objects are `list`, `dict`, `set`,.."
   ]
  },
  {
   "cell_type": "code",
   "execution_count": 1,
   "metadata": {
    "id": "eW7lyUQYeTUX"
   },
   "outputs": [],
   "source": [
    "# helper function \n",
    "def print_var(var):\n",
    "    print(\"var '{}' of type '{}' stored in memory at {}\".format(var, type(var).__name__, id(var)))"
   ]
  },
  {
   "cell_type": "code",
   "execution_count": 2,
   "metadata": {
    "colab": {
     "base_uri": "https://localhost:8080/",
     "height": 34
    },
    "id": "aMXGsqDwpHyu",
    "outputId": "318c8d20-ff2d-4a3d-aa79-aa85602d5a0e"
   },
   "outputs": [
    {
     "name": "stdout",
     "output_type": "stream",
     "text": [
      "var '5' of type 'int' stored in memory at 140707257164304\n"
     ]
    }
   ],
   "source": [
    "var = 5\n",
    "print_var(var)"
   ]
  },
  {
   "cell_type": "code",
   "execution_count": 3,
   "metadata": {
    "colab": {
     "base_uri": "https://localhost:8080/",
     "height": 34
    },
    "id": "r-gFQwRgq0v1",
    "outputId": "47020143-d44c-4799-aed0-8155085fcee1"
   },
   "outputs": [
    {
     "name": "stdout",
     "output_type": "stream",
     "text": [
      "var '6' of type 'int' stored in memory at 140707257164336\n"
     ]
    }
   ],
   "source": [
    "var += 1\n",
    "print_var(var)"
   ]
  },
  {
   "cell_type": "markdown",
   "metadata": {
    "id": "TeNe0JEDrLq8"
   },
   "source": [
    "The memory address is different, because a new `int` has been created an assigned to `var`."
   ]
  },
  {
   "cell_type": "code",
   "execution_count": 4,
   "metadata": {
    "colab": {
     "base_uri": "https://localhost:8080/",
     "height": 34
    },
    "id": "HD1CeTTjcudp",
    "outputId": "7f038fa9-2004-485a-da0b-12f72f3937de"
   },
   "outputs": [
    {
     "name": "stdout",
     "output_type": "stream",
     "text": [
      "var '[1, 2]' of type 'list' stored in memory at 1499243758600\n"
     ]
    }
   ],
   "source": [
    "var = [1, 2]\n",
    "print_var(var)"
   ]
  },
  {
   "cell_type": "code",
   "execution_count": 5,
   "metadata": {
    "colab": {
     "base_uri": "https://localhost:8080/",
     "height": 34
    },
    "id": "GtUbTql2cud6",
    "outputId": "a4b63a2c-ec97-4517-84c5-cdb6e9de7a40"
   },
   "outputs": [
    {
     "name": "stdout",
     "output_type": "stream",
     "text": [
      "var '[1, 2, 3]' of type 'list' stored in memory at 1499243758600\n"
     ]
    }
   ],
   "source": [
    "var.append(3)\n",
    "print_var(var)"
   ]
  },
  {
   "cell_type": "markdown",
   "metadata": {
    "id": "od8PFMghHQxC"
   },
   "source": [
    "### Exercise on `==` and `is` operators\n",
    "- `a == b` asks whether the value of `a` is equals the value of `b`\n",
    "- `a is b` asks whether `a` is the same object as `b`\n"
   ]
  },
  {
   "cell_type": "code",
   "execution_count": 6,
   "metadata": {
    "colab": {
     "base_uri": "https://localhost:8080/",
     "height": 101
    },
    "id": "65xHrqMkHnKm",
    "outputId": "f990d795-928c-456e-f0fe-67f2e46532cf"
   },
   "outputs": [
    {
     "name": "stdout",
     "output_type": "stream",
     "text": [
      "string_a == string_b returns '?'\n",
      "string_a is string_b returns '?'\n",
      "\n",
      "list_a == list_b returns '?'\n",
      "list_a is list_b returns '?'\n"
     ]
    }
   ],
   "source": [
    "string_a = \"hi\"\n",
    "string_b = \"hi\"\n",
    "list_a = [1,2,3]\n",
    "list_b = [1,2,3]\n",
    "print(\"string_a == string_b returns '?'\")\n",
    "print(\"string_a is string_b returns '?'\\n\")\n",
    "print(\"list_a == list_b returns '?'\")\n",
    "print(\"list_a is list_b returns '?'\")"
   ]
  },
  {
   "cell_type": "markdown",
   "metadata": {
    "id": "-3CaTqmcHCPz"
   },
   "source": [
    "#### Solution"
   ]
  },
  {
   "cell_type": "code",
   "execution_count": 7,
   "metadata": {
    "colab": {
     "base_uri": "https://localhost:8080/",
     "height": 101
    },
    "id": "tHBKcV0xJ3r_",
    "outputId": "da35b001-6ea4-4d7d-ca01-8b1b1eeee0b0"
   },
   "outputs": [
    {
     "name": "stdout",
     "output_type": "stream",
     "text": [
      "string_a == string_b returns 'True'\n",
      "string_a is string_b returns 'True'\n",
      "\n",
      "list_a == list_b returns 'True'\n",
      "list_a is list_b returns 'False'\n"
     ]
    }
   ],
   "source": [
    "print(\"string_a == string_b returns '{}'\".format(string_a == string_b))\n",
    "print(\"string_a is string_b returns '{}'\\n\".format(string_a is string_b))\n",
    "print(\"list_a == list_b returns '{}'\".format(list_a == list_b))\n",
    "print(\"list_a is list_b returns '{}'\".format(list_a is list_b))"
   ]
  },
  {
   "cell_type": "markdown",
   "metadata": {
    "id": "r8YAaRFnGZcE"
   },
   "source": [
    "### Exercise with mutable and immutable function arguments"
   ]
  },
  {
   "cell_type": "markdown",
   "metadata": {
    "id": "zwF5gXQxQwKF"
   },
   "source": [
    "In Python, arguments are always passed to functions **by reference**, meaning the caller and the function share the same object."
   ]
  },
  {
   "cell_type": "code",
   "execution_count": 8,
   "metadata": {
    "id": "BSQSCMpSKic4"
   },
   "outputs": [],
   "source": [
    "def my_func(var):\n",
    "    \"\"\" function alters content of <list> or <bool> params \"\"\"\n",
    "    if type(var) == bool:\n",
    "        var = not(var)\n",
    "        print(\"my_func var = {}\".format(var))\n",
    "    elif type(var) == list:\n",
    "        del var[0]\n",
    "        var.append(\"my_func was executed\")\n",
    "        print(\"my_func var = {}\".format(var))\n",
    "    else:\n",
    "        raise TypeError(\"Type {} is not supported by {}\".format(type(var)))\n"
   ]
  },
  {
   "cell_type": "code",
   "execution_count": 9,
   "metadata": {
    "colab": {
     "base_uri": "https://localhost:8080/",
     "height": 50
    },
    "id": "QbRZoqZLKiYU",
    "outputId": "6233d558-bbe4-4a01-9f62-7211abd0fd70"
   },
   "outputs": [
    {
     "name": "stdout",
     "output_type": "stream",
     "text": [
      "my_func var = False\n",
      "my_func var = [2, 3, 'my_func was executed']\n"
     ]
    }
   ],
   "source": [
    "a_bool = True\n",
    "a_list = [1,2,3]\n",
    "my_func(a_bool)\n",
    "my_func(a_list)"
   ]
  },
  {
   "cell_type": "markdown",
   "metadata": {
    "id": "Z7x8sF49OIHL"
   },
   "source": [
    "Question: What is the value of `a_bool` and `a_list` after executing `my_func`?"
   ]
  },
  {
   "cell_type": "markdown",
   "metadata": {
    "id": "2Ep0n7IZOXkN"
   },
   "source": [
    "#### Solution"
   ]
  },
  {
   "cell_type": "code",
   "execution_count": 10,
   "metadata": {
    "colab": {
     "base_uri": "https://localhost:8080/",
     "height": 34
    },
    "id": "fFs0AaQ1KiVY",
    "outputId": "b7f4a3c1-9607-4343-abf6-3d23705cfced"
   },
   "outputs": [
    {
     "data": {
      "text/plain": [
       "True"
      ]
     },
     "execution_count": 10,
     "metadata": {},
     "output_type": "execute_result"
    }
   ],
   "source": [
    "a_bool"
   ]
  },
  {
   "cell_type": "code",
   "execution_count": 11,
   "metadata": {
    "colab": {
     "base_uri": "https://localhost:8080/",
     "height": 34
    },
    "id": "cFt4JmMAOEcV",
    "outputId": "6f53f847-b6b0-4d34-d1f9-571a900d695e"
   },
   "outputs": [
    {
     "data": {
      "text/plain": [
       "[2, 3, 'my_func was executed']"
      ]
     },
     "execution_count": 11,
     "metadata": {},
     "output_type": "execute_result"
    }
   ],
   "source": [
    "a_list"
   ]
  },
  {
   "cell_type": "markdown",
   "metadata": {
    "id": "GnthCmvqT44F"
   },
   "source": [
    "**Explanation**\n",
    "- The behaviour on the *mutable* `list` is probably what you would expect: The variable `a_list` changed in the caller scope (`__main__` in this case) because of the *call by reference* concept in Python.\n",
    "- But, the *immutable* variable `a_bool` doesn't change in the caller scope. This is because a copy of `a_bool` is created locally in `my_func` which points to the new value of `False`.\n"
   ]
  }
 ],
 "metadata": {
  "colab": {
   "authorship_tag": "ABX9TyPiG/4dzMTuOyJAUKlfpUXl",
   "collapsed_sections": [],
   "name": "__misc.ipynb",
   "provenance": [],
   "toc_visible": true
  },
  "kernelspec": {
   "display_name": "Python 3",
   "language": "python",
   "name": "python3"
  },
  "language_info": {
   "codemirror_mode": {
    "name": "ipython",
    "version": 3
   },
   "file_extension": ".py",
   "mimetype": "text/x-python",
   "name": "python",
   "nbconvert_exporter": "python",
   "pygments_lexer": "ipython3",
   "version": "3.7.6"
  }
 },
 "nbformat": 4,
 "nbformat_minor": 1
}
