{
  "nbformat": 4,
  "nbformat_minor": 0,
  "metadata": {
    "kernelspec": {
      "display_name": "Python 3",
      "language": "python",
      "name": "python3"
    },
    "language_info": {
      "codemirror_mode": {
        "name": "ipython",
        "version": 3
      },
      "file_extension": ".py",
      "mimetype": "text/x-python",
      "name": "python",
      "nbconvert_exporter": "python",
      "pygments_lexer": "ipython3",
      "version": "3.6.10"
    },
    "colab": {
      "name": "python_administration.ipynb",
      "provenance": []
    }
  },
  "cells": [
    {
      "cell_type": "markdown",
      "metadata": {
        "id": "q_fc65gOrQJr"
      },
      "source": [
        "## Check Python version and location\n",
        "Test for the Python verion in use and the path of `python.exe` using the `sys`-module"
      ]
    },
    {
      "cell_type": "code",
      "metadata": {
        "id": "kSL1R_dBrQJv",
        "outputId": "c2132196-fdfb-46e3-97c5-731a893b8982",
        "colab": {
          "base_uri": "https://localhost:8080/"
        }
      },
      "source": [
        "import sys\n",
        "print(sys.version)\n",
        "print(sys.executable)"
      ],
      "execution_count": 1,
      "outputs": [
        {
          "output_type": "stream",
          "text": [
            "3.7.10 (default, May  3 2021, 02:48:31) \n",
            "[GCC 7.5.0]\n",
            "/usr/bin/python3\n"
          ],
          "name": "stdout"
        }
      ]
    },
    {
      "cell_type": "markdown",
      "metadata": {
        "id": "IXNfzfu6rQJx"
      },
      "source": [
        "### `where python`\n",
        "Running `where python` from `cmd` returns the location(s) of `python.exe` that is(are) known to the system"
      ]
    },
    {
      "cell_type": "code",
      "metadata": {
        "id": "Ng2eQDXRrQJy",
        "outputId": "95a580a0-83e6-4ecf-9f58-58c77509121a",
        "colab": {
          "base_uri": "https://localhost:8080/"
        }
      },
      "source": [
        "%system where python"
      ],
      "execution_count": 5,
      "outputs": [
        {
          "output_type": "execute_result",
          "data": {
            "text/plain": [
              "['/bin/bash: where: command not found']"
            ]
          },
          "metadata": {
            "tags": []
          },
          "execution_count": 5
        }
      ]
    },
    {
      "cell_type": "markdown",
      "metadata": {
        "id": "r_dQ_B1JrQJx"
      },
      "source": [
        "## Check `PATH`\n",
        "### get ``PATH`` within python"
      ]
    },
    {
      "cell_type": "code",
      "metadata": {
        "id": "S-npMYgQrf-D",
        "outputId": "a382ea7e-7cc7-4976-ddeb-f36088bd359f",
        "colab": {
          "base_uri": "https://localhost:8080/",
          "height": 35
        }
      },
      "source": [
        "import os\n",
        "os.environ.get(\"PATH\")"
      ],
      "execution_count": 3,
      "outputs": [
        {
          "output_type": "execute_result",
          "data": {
            "application/vnd.google.colaboratory.intrinsic+json": {
              "type": "string"
            },
            "text/plain": [
              "'/usr/local/nvidia/bin:/usr/local/cuda/bin:/usr/local/sbin:/usr/local/bin:/usr/sbin:/usr/bin:/sbin:/bin:/tools/node/bin:/tools/google-cloud-sdk/bin:/opt/bin'"
            ]
          },
          "metadata": {
            "tags": []
          },
          "execution_count": 3
        }
      ]
    },
    {
      "cell_type": "markdown",
      "metadata": {
        "id": "QpjMgfB9r8Sp"
      },
      "source": [
        "### get ``PATH`` within Jupyter"
      ]
    },
    {
      "cell_type": "code",
      "metadata": {
        "id": "VP4len28rQJy",
        "outputId": "ae72d04f-2da0-42c7-a527-0df91dca179d",
        "colab": {
          "base_uri": "https://localhost:8080/"
        }
      },
      "source": [
        "%system path"
      ],
      "execution_count": 4,
      "outputs": [
        {
          "output_type": "execute_result",
          "data": {
            "text/plain": [
              "['/bin/bash: path: command not found']"
            ]
          },
          "metadata": {
            "tags": []
          },
          "execution_count": 4
        }
      ]
    },
    {
      "cell_type": "markdown",
      "metadata": {
        "id": "oy7FkgqnrQJ0"
      },
      "source": [
        "## Various Spyder issues"
      ]
    },
    {
      "cell_type": "markdown",
      "metadata": {
        "id": "Dak8BntXrQJ0"
      },
      "source": [
        "Old data in hidden `appdata` directory may overwrite Anaconda settings. Thus, consider to delete the entire `C:\\Users\\USERNAME\\AppData\\Roaming\\Python` subdirectory.\n",
        "\n",
        "The `appdata` can easily be found by typing `%appdata%` into the windows explorer address bar.\n",
        "\n",
        "Source: Youtube [Spyder says: Don't mix pip and conda](https://www.youtube.com/watch?v=Ul79ihg41Rs)"
      ]
    }
  ]
}