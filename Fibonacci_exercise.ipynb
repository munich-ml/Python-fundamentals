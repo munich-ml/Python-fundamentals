{
 "cells": [
  {
   "cell_type": "markdown",
   "metadata": {
    "id": "vNZpqbRjACbi"
   },
   "source": [
    "## Fibunacci recursion exercise"
   ]
  },
  {
   "cell_type": "markdown",
   "metadata": {
    "id": "hX-N3NBkAHRf"
   },
   "source": [
    "\n",
    "Write a function `calc_fibunacci(z)` that returns the Fibunacci number for the input z. \n",
    "\n",
    "Here is how you calculate Fibunacci numbers:\n",
    "- `Fibunacci(z) = `\n",
    "> - `1, if z==0` \n",
    "> - `1, if z==1` \n",
    "> - `Fibunacci(z-2) + Fibunacci(z-1), else`  \n",
    "\n",
    "\n"
   ]
  },
  {
   "cell_type": "markdown",
   "metadata": {
    "id": "Qa4Csn2FGXK6"
   },
   "source": [
    "### Recursive solution"
   ]
  },
  {
   "cell_type": "code",
   "execution_count": 1,
   "metadata": {
    "id": "VxzLe403Ayzs"
   },
   "outputs": [],
   "source": [
    "def calc_fibunacci(z):\n",
    "    \"\"\"\n",
    "    Return the <int> fibunacci number of the input <int> z\n",
    "    \"\"\"\n",
    "    if z in (0, 1):\n",
    "        return 1\n",
    "\n",
    "    return calc_fibunacci(z-2) + calc_fibunacci(z-1)"
   ]
  },
  {
   "cell_type": "code",
   "execution_count": 2,
   "metadata": {
    "id": "COntkr-aA_6d"
   },
   "outputs": [],
   "source": [
    "import time\n",
    "ct = {\"recursion\": []}\n",
    "for i in range(30):\n",
    "    t0 = time.time()\n",
    "    fib = calc_fibunacci(i)\n",
    "    ct[\"recursion\"].append(time.time()-t0)"
   ]
  },
  {
   "cell_type": "code",
   "execution_count": 3,
   "metadata": {
    "id": "CngW0xVdT1Ij"
   },
   "outputs": [],
   "source": [
    "import matplotlib.pyplot as plt\n",
    "def plot_compute_times(ct):\n",
    "    for label, times in ct.items():\n",
    "        plt.semilogy(times, label=label)\n",
    "\n",
    "    plt.ylabel(\"compute time [s]\")\n",
    "    plt.grid(), plt.legend();"
   ]
  },
  {
   "cell_type": "code",
   "execution_count": 4,
   "metadata": {
    "colab": {
     "base_uri": "https://localhost:8080/",
     "height": 265
    },
    "id": "4uC8_YAKVhGi",
    "outputId": "8a15efc5-6db8-468c-e65b-5d52e743aa1b"
   },
   "outputs": [
    {
     "data": {
      "image/png": "[encoded data removed]",
      "text/plain": [
       "<Figure size 432x288 with 1 Axes>"
      ]
     },
     "metadata": {
      "needs_background": "light"
     },
     "output_type": "display_data"
    }
   ],
   "source": [
    "plot_compute_times(ct)"
   ]
  },
  {
   "cell_type": "markdown",
   "metadata": {
    "id": "n4YUrkUzFfpT"
   },
   "source": [
    "### Solution using `class` and `classmethod`"
   ]
  },
  {
   "cell_type": "code",
   "execution_count": 5,
   "metadata": {
    "id": "FgueUUmBCr9t"
   },
   "outputs": [],
   "source": [
    "class Fibunacci_calculator:\n",
    "    known_fibus = {0: 1, 1: 1}\n",
    "\n",
    "    @classmethod\n",
    "    def calc(cls, z):\n",
    "        if z in cls.known_fibus.keys():\n",
    "            return cls.known_fibus[z]\n",
    "\n",
    "        cls.known_fibus[z] = cls.calc(z-2) + cls.calc(z-1)\n",
    "        return cls.known_fibus[z]"
   ]
  },
  {
   "cell_type": "code",
   "execution_count": 6,
   "metadata": {
    "id": "wQ-MWS5TDvrY"
   },
   "outputs": [],
   "source": [
    "ct[\"cache in class\"] = []\n",
    "for i in range(30):\n",
    "    t0 = time.time()\n",
    "    fib = Fibunacci_calculator.calc(i)\n",
    "    ct[\"cache in class\"].append(time.time()-t0)"
   ]
  },
  {
   "cell_type": "code",
   "execution_count": 8,
   "metadata": {
    "colab": {
     "base_uri": "https://localhost:8080/",
     "height": 265
    },
    "id": "VP2RTfCVV3sS",
    "outputId": "df6721fe-6f2d-4063-bc5a-9b7611c36f23",
    "scrolled": true
   },
   "outputs": [
    {
     "data": {
      "image/png": "[encoded data removed]",
      "text/plain": [
       "<Figure size 432x288 with 1 Axes>"
      ]
     },
     "metadata": {
      "needs_background": "light"
     },
     "output_type": "display_data"
    }
   ],
   "source": [
    "plot_compute_times(ct)"
   ]
  }
 ],
 "metadata": {
  "colab": {
   "authorship_tag": "ABX9TyPiG/4dzMTuOyJAUKlfpUXl",
   "collapsed_sections": [],
   "name": "__misc.ipynb",
   "provenance": [],
   "toc_visible": true
  },
  "kernelspec": {
   "display_name": "Python 3",
   "language": "python",
   "name": "python3"
  },
  "language_info": {
   "codemirror_mode": {
    "name": "ipython",
    "version": 3
   },
   "file_extension": ".py",
   "mimetype": "text/x-python",
   "name": "python",
   "nbconvert_exporter": "python",
   "pygments_lexer": "ipython3",
   "version": "3.7.6"
  }
 },
 "nbformat": 4,
 "nbformat_minor": 1
}
